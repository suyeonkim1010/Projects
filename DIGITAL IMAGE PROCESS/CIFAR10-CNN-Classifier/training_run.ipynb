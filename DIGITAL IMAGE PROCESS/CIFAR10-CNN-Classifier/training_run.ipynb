{
  "nbformat": 4,
  "nbformat_minor": 0,
  "metadata": {
    "colab": {
      "provenance": []
    },
    "kernelspec": {
      "name": "python3",
      "display_name": "Python 3"
    },
    "accelerator": "GPU"
  },
  "cells": [
    {
      "cell_type": "markdown",
      "source": [
        "#Mount Google Drive"
      ],
      "metadata": {
        "id": "yckVuHA_lpPM"
      }
    },
    {
      "cell_type": "code",
      "source": [
        "from google.colab import drive\n",
        "drive.mount('/content/drive')"
      ],
      "metadata": {
        "id": "jY8CsXfVIsSz"
      },
      "execution_count": null,
      "outputs": []
    },
    {
      "cell_type": "markdown",
      "source": [
        "# Install Packages"
      ],
      "metadata": {
        "id": "2ShKVUUdlzvh"
      }
    },
    {
      "cell_type": "code",
      "metadata": {
        "id": "PBoqVVGwNm1k"
      },
      "source": [
        "!python3 -m pip install --upgrade paramparse patchify"
      ],
      "execution_count": null,
      "outputs": []
    },
    {
      "cell_type": "markdown",
      "source": [
        "# Upload A6 Files\n",
        "Upload `A6_main.py`, `A6_utils.py` and `A6_submission.py` to Google Drive and set the path of the corresponding folder here.\n"
      ],
      "metadata": {
        "id": "H6SvRu-sAzVK"
      }
    },
    {
      "cell_type": "code",
      "metadata": {
        "id": "dw3vT1EA4YBv"
      },
      "source": [
        "submission_root_dir=\"/content/drive/your_folder_path\""
      ],
      "execution_count": null,
      "outputs": []
    },
    {
      "cell_type": "markdown",
      "source": [
        "# Show details of parameters"
      ],
      "metadata": {
        "id": "BFe3BJYKhtGS"
      }
    },
    {
      "cell_type": "code",
      "source": [
        "!cd \"$submission_root_dir\" && python3 A6_main.py -h"
      ],
      "metadata": {
        "id": "y0iIpn-EhioR"
      },
      "execution_count": null,
      "outputs": []
    },
    {
      "cell_type": "markdown",
      "source": [
        "# Load tensorboard extension"
      ],
      "metadata": {
        "id": "4IqODHfhl1j0"
      }
    },
    {
      "cell_type": "code",
      "source": [
        "%load_ext tensorboard"
      ],
      "metadata": {
        "id": "vD51-wOCl6mB"
      },
      "execution_count": null,
      "outputs": []
    },
    {
      "cell_type": "markdown",
      "metadata": {
        "id": "egi3yTBNOSFG"
      },
      "source": [
        "# Tensorboard to monitor training progress\n",
        "\n",
        "It needs to be started before the program to run in the background since only one cell can be executed at a time.\n",
        "\n",
        "It can take a few seconds for the tensorboard interface to appear after the cell has been run.\n",
        "\n",
        "Tensorbard can be a bit temperamental so you may have to  click on the refresh buttom on the interface (top right) a few times and / or wait a while after the main program has started to get it working\n",
        "\n",
        "You will also need to enable third party cookies if you get a [403 error](https://github.com/tensorflow/tensorboard/issues/3186).\n",
        "\n",
        "`Scalars` tab shows plots of training and validation metrics\n",
        "\n",
        "`Images` tab shows visualization of classification results on a subset of validation images. Track bar can be used to see how the result improves over epochs.\n"
      ]
    },
    {
      "cell_type": "code",
      "metadata": {
        "id": "bMPYDomrKKRq",
        "collapsed": true
      },
      "source": [
        "%tensorboard --logdir=\"$submission_root_dir/checkpoints/tb\" --port=8888"
      ],
      "execution_count": null,
      "outputs": []
    },
    {
      "cell_type": "markdown",
      "metadata": {
        "id": "uSDUmYdp8s8X"
      },
      "source": [
        "# Train\n",
        "It will automatically load your checkpoint or start training from the beginning if there is no checkpoints.\n",
        "\n",
        "show output of this cell in your pdf"
      ]
    },
    {
      "cell_type": "code",
      "metadata": {
        "id": "yjPB6EidE56l"
      },
      "source": [
        "!cd \"$submission_root_dir\" && python3 A6_main.py val.vis=1"
      ],
      "execution_count": null,
      "outputs": []
    },
    {
      "cell_type": "markdown",
      "source": [
        "# This is how your submission will be evaluated\n",
        "show output of this cell in your pdf"
      ],
      "metadata": {
        "id": "GL0Nc4jSsTLK"
      }
    },
    {
      "cell_type": "code",
      "source": [
        "!cd \"$submission_root_dir\" && python3 A6_main.py ckpt.load=2 test.enable=1"
      ],
      "metadata": {
        "id": "91C-KQbzsPFN",
        "collapsed": true
      },
      "execution_count": null,
      "outputs": []
    }
  ]
}